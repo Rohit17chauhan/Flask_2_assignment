{
 "cells": [
  {
   "cell_type": "code",
   "execution_count": 1,
   "id": "1d4d75dc-b224-4f06-87cd-2efd049e11fa",
   "metadata": {},
   "outputs": [
    {
     "data": {
      "text/plain": [
       "'Q1. Explain GET and POST methods.'"
      ]
     },
     "execution_count": 1,
     "metadata": {},
     "output_type": "execute_result"
    }
   ],
   "source": [
    "\"\"\"Q1. Explain GET and POST methods.\"\"\""
   ]
  },
  {
   "cell_type": "code",
   "execution_count": 2,
   "id": "941b93dd-feb9-4b7d-b3ff-585b94c019a0",
   "metadata": {},
   "outputs": [],
   "source": [
    "Ans_1=\"The GET method is used to request data from a specified resource. It is primarily used for retrieving data from the server without causing any side effects on the server's state.The POST method is used to submit data to be processed to a specified resource. Unlike GET, it is not meant for retrieval but rather for sending data to the server to create, update, or perform some other action that may change the server's state.\""
   ]
  },
  {
   "cell_type": "code",
   "execution_count": 3,
   "id": "4cc686e8-cb3b-4b39-844b-40cffaa996ca",
   "metadata": {},
   "outputs": [
    {
     "data": {
      "text/plain": [
       "\"The GET method is used to request data from a specified resource. It is primarily used for retrieving data from the server without causing any side effects on the server's state.The POST method is used to submit data to be processed to a specified resource. Unlike GET, it is not meant for retrieval but rather for sending data to the server to create, update, or perform some other action that may change the server's state.\""
      ]
     },
     "execution_count": 3,
     "metadata": {},
     "output_type": "execute_result"
    }
   ],
   "source": [
    "Ans_1"
   ]
  },
  {
   "cell_type": "code",
   "execution_count": 4,
   "id": "13ff046b-faf3-473a-ae4f-0ec09121a354",
   "metadata": {},
   "outputs": [
    {
     "data": {
      "text/plain": [
       "'Q2. Why is request used in Flask?'"
      ]
     },
     "execution_count": 4,
     "metadata": {},
     "output_type": "execute_result"
    }
   ],
   "source": [
    "\"\"\"Q2. Why is request used in Flask?\"\"\""
   ]
  },
  {
   "cell_type": "code",
   "execution_count": 5,
   "id": "d0326df5-95e6-4e1e-857c-6d8257f1fa94",
   "metadata": {},
   "outputs": [],
   "source": [
    "Ans_2=\"In Flask, the request object is used to access and manipulate incoming HTTP request data sent by the client to the server. It is a crucial component of Flask and is part of the Flask module called flask.request. The request object allows you to access various aspects of an HTTP request, such as form data, query parameters, cookies, headers, and more. \""
   ]
  },
  {
   "cell_type": "code",
   "execution_count": 6,
   "id": "2a9b659c-5eca-44e1-bbd4-4970e890d11a",
   "metadata": {},
   "outputs": [
    {
     "data": {
      "text/plain": [
       "'In Flask, the request object is used to access and manipulate incoming HTTP request data sent by the client to the server. It is a crucial component of Flask and is part of the Flask module called flask.request. The request object allows you to access various aspects of an HTTP request, such as form data, query parameters, cookies, headers, and more. '"
      ]
     },
     "execution_count": 6,
     "metadata": {},
     "output_type": "execute_result"
    }
   ],
   "source": [
    "Ans_2"
   ]
  },
  {
   "cell_type": "code",
   "execution_count": 7,
   "id": "43ff7507-feaf-4058-878b-4a63a2b8f7a7",
   "metadata": {},
   "outputs": [
    {
     "data": {
      "text/plain": [
       "'Q3. Why is redirect() used in Flask?'"
      ]
     },
     "execution_count": 7,
     "metadata": {},
     "output_type": "execute_result"
    }
   ],
   "source": [
    "\"\"\"Q3. Why is redirect() used in Flask?\"\"\""
   ]
  },
  {
   "cell_type": "code",
   "execution_count": 8,
   "id": "b03a12ca-8db9-4b75-8a66-b584ec9661f7",
   "metadata": {},
   "outputs": [],
   "source": [
    "Ans_3=\"In Flask, the redirect() function is used to perform HTTP redirects. Redirects are a way to instruct the client's web browser to navigate to a different URL or route.You can use redirect() to send the client's browser to a different URL within your application. For example, after a user submits a form, you can redirect them to a Thank You page or a different route to display the results.\""
   ]
  },
  {
   "cell_type": "code",
   "execution_count": 9,
   "id": "9c150a80-c8d1-4bb8-8c71-b6ef179efc32",
   "metadata": {},
   "outputs": [
    {
     "data": {
      "text/plain": [
       "\"In Flask, the redirect() function is used to perform HTTP redirects. Redirects are a way to instruct the client's web browser to navigate to a different URL or route.You can use redirect() to send the client's browser to a different URL within your application. For example, after a user submits a form, you can redirect them to a Thank You page or a different route to display the results.\""
      ]
     },
     "execution_count": 9,
     "metadata": {},
     "output_type": "execute_result"
    }
   ],
   "source": [
    "Ans_3"
   ]
  },
  {
   "cell_type": "code",
   "execution_count": 10,
   "id": "b66551e8-f178-4ee3-ad51-59318a135856",
   "metadata": {},
   "outputs": [
    {
     "data": {
      "text/plain": [
       "'Q4. What are templates in Flask? Why is the render_template() function used?'"
      ]
     },
     "execution_count": 10,
     "metadata": {},
     "output_type": "execute_result"
    }
   ],
   "source": [
    "\"\"\"Q4. What are templates in Flask? Why is the render_template() function used?\"\"\""
   ]
  },
  {
   "cell_type": "code",
   "execution_count": 11,
   "id": "d7019179-90bc-40f7-bd36-af8fb5b7a4d0",
   "metadata": {},
   "outputs": [],
   "source": [
    "Ans_4=\"In Flask, templates are a way to separate the structure (HTML) of your web pages from the dynamic content generated by your application. Templates allow you to create reusable and maintainable HTML files that can be populated with data dynamically. This separation of concerns is a common practice in web development and follows the Model-View-Controller (MVC) design pattern.The render_template() function is used in Flask to render HTML templates and return the resulting HTML as a response to a client's request\""
   ]
  },
  {
   "cell_type": "code",
   "execution_count": 12,
   "id": "0707b0a4-7af2-4bc1-b0ca-48f609c86673",
   "metadata": {},
   "outputs": [
    {
     "data": {
      "text/plain": [
       "\"In Flask, templates are a way to separate the structure (HTML) of your web pages from the dynamic content generated by your application. Templates allow you to create reusable and maintainable HTML files that can be populated with data dynamically. This separation of concerns is a common practice in web development and follows the Model-View-Controller (MVC) design pattern.The render_template() function is used in Flask to render HTML templates and return the resulting HTML as a response to a client's request\""
      ]
     },
     "execution_count": 12,
     "metadata": {},
     "output_type": "execute_result"
    }
   ],
   "source": [
    "Ans_4"
   ]
  },
  {
   "cell_type": "code",
   "execution_count": 13,
   "id": "06419d39-0aaf-4bb6-9faa-473c7aa2ef06",
   "metadata": {},
   "outputs": [
    {
     "data": {
      "text/plain": [
       "' Q5. Create a simple API. Use Postman to test it. Attach the screenshot of the output in the Jupyter Notebook.'"
      ]
     },
     "execution_count": 13,
     "metadata": {},
     "output_type": "execute_result"
    }
   ],
   "source": [
    "\"\"\" Q5. Create a simple API. Use Postman to test it. Attach the screenshot of the output in the Jupyter Notebook.\"\"\""
   ]
  },
  {
   "cell_type": "code",
   "execution_count": null,
   "id": "00c0e8e2-0766-4085-9dbe-bf81d59073a2",
   "metadata": {},
   "outputs": [],
   "source": []
  }
 ],
 "metadata": {
  "kernelspec": {
   "display_name": "Python 3 (ipykernel)",
   "language": "python",
   "name": "python3"
  },
  "language_info": {
   "codemirror_mode": {
    "name": "ipython",
    "version": 3
   },
   "file_extension": ".py",
   "mimetype": "text/x-python",
   "name": "python",
   "nbconvert_exporter": "python",
   "pygments_lexer": "ipython3",
   "version": "3.10.8"
  }
 },
 "nbformat": 4,
 "nbformat_minor": 5
}
